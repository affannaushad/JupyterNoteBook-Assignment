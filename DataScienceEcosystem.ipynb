{
  "metadata": {
    "kernelspec": {
      "name": "python",
      "display_name": "Python (Pyodide)",
      "language": "python"
    },
    "language_info": {
      "codemirror_mode": {
        "name": "python",
        "version": 3
      },
      "file_extension": ".py",
      "mimetype": "text/x-python",
      "name": "python",
      "nbconvert_exporter": "python",
      "pygments_lexer": "ipython3",
      "version": "3.8"
    }
  },
  "nbformat_minor": 5,
  "nbformat": 4,
  "cells": [
    {
      "id": "c1551c94-04c6-4da8-8e8c-ce288f075084",
      "cell_type": "markdown",
      "source": "# Data Science Tools and Ecosystem",
      "metadata": {}
    },
    {
      "id": "c9965e92-c5ac-448d-9fe4-41468c598b4f",
      "cell_type": "markdown",
      "source": "In this notebook, Data Science Tools and Ecosystem are summarized.",
      "metadata": {}
    },
    {
      "id": "004ec5fe-4188-44bc-b747-893ae16ec523",
      "cell_type": "markdown",
      "source": "**Objectives:**\n- Popular Languages in Data Science\n- Commonly Used Libraries By Data Scientists\n- Simple Arithmetic Expressions",
      "metadata": {}
    },
    {
      "id": "e3c3db7d-6aca-41ac-96a5-d8e55e3462e4",
      "cell_type": "markdown",
      "source": "Some of the popular languages that Data Scientists use are: \n1. Python\n2. R\n3. SQL\n4. Julia",
      "metadata": {}
    },
    {
      "id": "941978f7-0994-42ba-a31c-7619049b812c",
      "cell_type": "markdown",
      "source": "Some of the commonly used libraries by Data Sceintists include: \n1. Matplotlib\n2. Pandas\n3. Scikit-learn",
      "metadata": {}
    },
    {
      "id": "0e9d81a0-8756-4286-813d-c9e214d84b6b",
      "cell_type": "markdown",
      "source": "Data Science Tools|\n------------------\nVisual Studio\nRstudio\nSpyder",
      "metadata": {}
    },
    {
      "id": "fc9cb163-b17b-4208-96a0-0b09643f19e2",
      "cell_type": "markdown",
      "source": "### Below are a few examples of evaluating arithmetic expressions in Python",
      "metadata": {}
    },
    {
      "id": "040374b3-0697-46ed-b601-56347a8f9013",
      "cell_type": "code",
      "source": "# This a simple arithmetic expression to mutiply then add integers\n(3*4)+5",
      "metadata": {
        "trusted": true
      },
      "outputs": [
        {
          "execution_count": 2,
          "output_type": "execute_result",
          "data": {
            "text/plain": "17"
          },
          "metadata": {}
        }
      ],
      "execution_count": 2
    },
    {
      "id": "34a69e20-91a9-42cf-aa57-d0a978b7ec27",
      "cell_type": "code",
      "source": "# This will convert 200 minutes to hours by diving by 60\n200/60",
      "metadata": {
        "trusted": true
      },
      "outputs": [
        {
          "execution_count": 4,
          "output_type": "execute_result",
          "data": {
            "text/plain": "3.3333333333333335"
          },
          "metadata": {}
        }
      ],
      "execution_count": 4
    },
    {
      "id": "d57fc4d9-b7ac-4c52-b562-6db50d5a78a3",
      "cell_type": "markdown",
      "source": "## Author\nAffan Naushad",
      "metadata": {}
    },
    {
      "id": "9b7b0715-ff10-44a3-ace5-b1f925a3c371",
      "cell_type": "code",
      "source": "",
      "metadata": {
        "trusted": true
      },
      "outputs": [],
      "execution_count": null
    }
  ]
}